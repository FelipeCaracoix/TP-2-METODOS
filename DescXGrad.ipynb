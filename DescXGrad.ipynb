{
 "cells": [
  {
   "cell_type": "code",
   "execution_count": 31,
   "metadata": {},
   "outputs": [],
   "source": [
    "import numpy as np\n",
    "import matplotlib.pyplot as plt\n",
    "from PIL import Image\n",
    "import os\n",
    "from gradiente_descendente import gradiente_descendente"
   ]
  },
  {
   "cell_type": "code",
   "execution_count": 32,
   "metadata": {},
   "outputs": [],
   "source": [
    "def abrirImagenesEscaladas( carpeta, escala=32 ):\n",
    "    # abre todas las imagenes de la carpeta, y las escala de tal forma que midan (escala x escala)px\n",
    "    # devuelve las imagenes aplanadas -> vectores de tamano escala^2 con valores entre 0 y 1\n",
    "    imagenes = []\n",
    "\n",
    "    for dirpath, dirnames, filenames in os.walk(carpeta):\n",
    "        for file in filenames:\n",
    "            img = Image.open( os.path.join(carpeta, file) )\n",
    "            img = img.resize((escala, escala))\n",
    "            img.convert('1')\n",
    "            img = np.asarray(img)\n",
    "            if len(img.shape)==3:\n",
    "                img = img[:,:,0].reshape((escala**2 )) / 255\n",
    "            else:\n",
    "                img = img.reshape((escala**2 )) / 255\n",
    "            \n",
    "            imagenes.append( img )\n",
    "\n",
    "    return imagenes"
   ]
  },
  {
   "cell_type": "code",
   "execution_count": 33,
   "metadata": {},
   "outputs": [
    {
     "name": "stdout",
     "output_type": "stream",
     "text": [
      "(390, 1024)\n"
     ]
    }
   ],
   "source": [
    "i = np.array(abrirImagenesEscaladas(\"/Users/victoriamarsili/Downloads/chest_xray/test/PNEUMONIA\", escala=32))\n",
    "print(i.shape)"
   ]
  },
  {
   "cell_type": "code",
   "execution_count": 38,
   "metadata": {},
   "outputs": [
    {
     "ename": "ValueError",
     "evalue": "operands could not be broadcast together with shapes (3,) (390,) (3,) ",
     "output_type": "error",
     "traceback": [
      "\u001b[0;31m---------------------------------------------------------------------------\u001b[0m",
      "\u001b[0;31mValueError\u001b[0m                                Traceback (most recent call last)",
      "\u001b[1;32m/Users/victoriamarsili/Desktop/di_tella_2024/metodos/TP-2-METODOS/DescXGrad.ipynb Celda 4\u001b[0m line \u001b[0;36m7\n\u001b[1;32m      <a href='vscode-notebook-cell:/Users/victoriamarsili/Desktop/di_tella_2024/metodos/TP-2-METODOS/DescXGrad.ipynb#W2sZmlsZQ%3D%3D?line=4'>5</a>\u001b[0m     imagenes_entrenamiento_balanceadas \u001b[39m=\u001b[39m gradiente_descendente(w,b,imagenes_entrenamiento,d)\n\u001b[1;32m      <a href='vscode-notebook-cell:/Users/victoriamarsili/Desktop/di_tella_2024/metodos/TP-2-METODOS/DescXGrad.ipynb#W2sZmlsZQ%3D%3D?line=5'>6</a>\u001b[0m     \u001b[39mreturn\u001b[39;00m imagenes_entrenamiento_balanceadas\n\u001b[0;32m----> <a href='vscode-notebook-cell:/Users/victoriamarsili/Desktop/di_tella_2024/metodos/TP-2-METODOS/DescXGrad.ipynb#W2sZmlsZQ%3D%3D?line=6'>7</a>\u001b[0m balancear_datos(i)\n",
      "\u001b[1;32m/Users/victoriamarsili/Desktop/di_tella_2024/metodos/TP-2-METODOS/DescXGrad.ipynb Celda 4\u001b[0m line \u001b[0;36m5\n\u001b[1;32m      <a href='vscode-notebook-cell:/Users/victoriamarsili/Desktop/di_tella_2024/metodos/TP-2-METODOS/DescXGrad.ipynb#W2sZmlsZQ%3D%3D?line=2'>3</a>\u001b[0m d \u001b[39m=\u001b[39m np\u001b[39m.\u001b[39mrandom\u001b[39m.\u001b[39mrandn(\u001b[39m1024\u001b[39m)\n\u001b[1;32m      <a href='vscode-notebook-cell:/Users/victoriamarsili/Desktop/di_tella_2024/metodos/TP-2-METODOS/DescXGrad.ipynb#W2sZmlsZQ%3D%3D?line=3'>4</a>\u001b[0m w \u001b[39m=\u001b[39m np\u001b[39m.\u001b[39mrandom\u001b[39m.\u001b[39mrandn(\u001b[39m390\u001b[39m)\n\u001b[0;32m----> <a href='vscode-notebook-cell:/Users/victoriamarsili/Desktop/di_tella_2024/metodos/TP-2-METODOS/DescXGrad.ipynb#W2sZmlsZQ%3D%3D?line=4'>5</a>\u001b[0m imagenes_entrenamiento_balanceadas \u001b[39m=\u001b[39m gradiente_descendente(w,b,imagenes_entrenamiento,d)\n\u001b[1;32m      <a href='vscode-notebook-cell:/Users/victoriamarsili/Desktop/di_tella_2024/metodos/TP-2-METODOS/DescXGrad.ipynb#W2sZmlsZQ%3D%3D?line=5'>6</a>\u001b[0m \u001b[39mreturn\u001b[39;00m imagenes_entrenamiento_balanceadas\n",
      "File \u001b[0;32m~/Desktop/di_tella_2024/metodos/TP-2-METODOS/gradiente_descendente.py:24\u001b[0m, in \u001b[0;36mgradiente_descendente\u001b[0;34m(w_inicial, b_inicial, i_matriz, d_array)\u001b[0m\n\u001b[1;32m     19\u001b[0m \u001b[39miter\u001b[39m \u001b[39m=\u001b[39m \u001b[39m0\u001b[39m\n\u001b[1;32m     21\u001b[0m \u001b[39mwhile\u001b[39;00m \u001b[39miter\u001b[39m \u001b[39m<\u001b[39m\u001b[39m=\u001b[39m MAX_ITER:\n\u001b[1;32m     22\u001b[0m     \n\u001b[1;32m     23\u001b[0m     \u001b[39m# Computamos siguiente w y b a partir de la derivada de la función\u001b[39;00m\n\u001b[0;32m---> 24\u001b[0m     _, (grad_w, grad_b) \u001b[39m=\u001b[39m suma_derivada(i_matriz, w, b, d_array)\n\u001b[1;32m     28\u001b[0m     w_siguiente \u001b[39m=\u001b[39m w \u001b[39m-\u001b[39m alpha \u001b[39m*\u001b[39m grad_w\n\u001b[1;32m     29\u001b[0m     b_siguiente \u001b[39m=\u001b[39m b \u001b[39m-\u001b[39m alpha \u001b[39m*\u001b[39m grad_b\n",
      "File \u001b[0;32m~/Desktop/di_tella_2024/metodos/TP-2-METODOS/formula.py:25\u001b[0m, in \u001b[0;36msuma_derivada\u001b[0;34m(i_matriz, w, b, d_array)\u001b[0m\n\u001b[1;32m     23\u001b[0m     suma_totalW \u001b[39m+\u001b[39m\u001b[39m=\u001b[39m derW[\u001b[39m0\u001b[39m]\n\u001b[1;32m     24\u001b[0m     suma_totalB \u001b[39m+\u001b[39m\u001b[39m=\u001b[39m derB[\u001b[39m0\u001b[39m]\n\u001b[0;32m---> 25\u001b[0m     Dsuma_totalW \u001b[39m+\u001b[39;49m\u001b[39m=\u001b[39;49m derW[\u001b[39m1\u001b[39;49m]\n\u001b[1;32m     26\u001b[0m     Dsuma_totalB \u001b[39m+\u001b[39m\u001b[39m=\u001b[39m derB[\u001b[39m1\u001b[39m]\n\u001b[1;32m     29\u001b[0m \u001b[39mreturn\u001b[39;00m ((suma_totalW, suma_totalB),(Dsuma_totalW, Dsuma_totalB))\n",
      "\u001b[0;31mValueError\u001b[0m: operands could not be broadcast together with shapes (3,) (390,) (3,) "
     ]
    }
   ],
   "source": [
    "def balancear_datos(imagenes_entrenamiento):\n",
    "    b = np.random.randn(1)\n",
    "    d = np.random.randn(1024)\n",
    "    w = np.random.randn(390)\n",
    "    imagenes_entrenamiento_balanceadas = gradiente_descendente(w,b,imagenes_entrenamiento,d)\n",
    "    return imagenes_entrenamiento_balanceadas\n",
    "balancear_datos(i)"
   ]
  }
 ],
 "metadata": {
  "kernelspec": {
   "display_name": "Python 3.11.2 64-bit",
   "language": "python",
   "name": "python3"
  },
  "language_info": {
   "codemirror_mode": {
    "name": "ipython",
    "version": 3
   },
   "file_extension": ".py",
   "mimetype": "text/x-python",
   "name": "python",
   "nbconvert_exporter": "python",
   "pygments_lexer": "ipython3",
   "version": "3.12.0"
  },
  "vscode": {
   "interpreter": {
    "hash": "aee8b7b246df8f9039afb4144a1f6fd8d2ca17a180786b69acc140d282b71a49"
   }
  }
 },
 "nbformat": 4,
 "nbformat_minor": 2
}
