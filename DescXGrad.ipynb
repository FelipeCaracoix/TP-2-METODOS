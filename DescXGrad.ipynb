{
 "cells": [
  {
   "cell_type": "code",
   "execution_count": 1,
   "metadata": {},
   "outputs": [],
   "source": [
    "import numpy as np\n",
    "import matplotlib.pyplot as plt\n",
    "from PIL import Image\n",
    "import os"
   ]
  },
  {
   "cell_type": "code",
   "execution_count": 26,
   "metadata": {},
   "outputs": [],
   "source": [
    "def abrirImagenesEscaladas( carpeta, escala=32 ):\n",
    "    # abre todas las imagenes de la carpeta, y las escala de tal forma que midan (escala x escala)px\n",
    "    # devuelve las imagenes aplanadas -> vectores de tamano escala^2 con valores entre 0 y 1\n",
    "    imagenes = []\n",
    "\n",
    "    for dirpath, dirnames, filenames in os.walk(carpeta):\n",
    "        for file in filenames:\n",
    "            img = Image.open( os.path.join(carpeta, file) )\n",
    "            img = img.resize((escala, escala))\n",
    "            img.convert('1')\n",
    "            img = np.asarray(img)\n",
    "            if len(img.shape)==3:\n",
    "                img = img[:,:,0].reshape((escala**2 )) / 255\n",
    "            else:\n",
    "                img = img.reshape((escala**2 )) / 255\n",
    "            \n",
    "            imagenes.append( img )\n",
    "\n",
    "    return imagenes"
   ]
  },
  {
   "cell_type": "code",
   "execution_count": null,
   "metadata": {},
   "outputs": [],
   "source": [
    "def balancear_datos(imagenes_entrenamiento):\n",
    "    imagenes_entrenamiento_balanceadas = \n",
    "    return imagenes_entrenamiento_balanceadas"
   ]
  },
  {
   "cell_type": "code",
   "execution_count": null,
   "metadata": {},
   "outputs": [],
   "source": [
    "def fw_b(i, w, b):\n",
    "    \"\"\"\n",
    "    Calcula fw,b(i) = (tanh(w · i + b) + 1) / 2 para un vector i.\n",
    "\n",
    "    Args:\n",
    "    - i: Vector de entrada de tamaño n.\n",
    "    - w: Vector de pesos de tamaño n.\n",
    "    - b: Escalar de sesgo.\n",
    "\n",
    "    Returns:\n",
    "    - fw_b: Valor calculado fw,b(i).\n",
    "    \"\"\"\n",
    "    return (np.tanh(np.dot(w, i) + b) + 1) / 2"
   ]
  },
  {
   "cell_type": "code",
   "execution_count": null,
   "metadata": {},
   "outputs": [],
   "source": [
    "def suma_f_w_b(i_matriz, w, b, d_array):\n",
    "    # Inicializamos la suma total\n",
    "    suma_total = 0\n",
    "    # Iteramos sobre las columnas de la matriz i\n",
    "    for j in range(i_matriz.shape[1]):\n",
    "        # Calculamos f_w_b para la columna actual y restamos d_array[j]\n",
    "        suma_total += (f_w_b(i_matriz[:, j], w, b) - d_array[j])**2\n",
    "    return suma_total"
   ]
  }
 ],
 "metadata": {
  "kernelspec": {
   "display_name": "Python 3.11.2 64-bit",
   "language": "python",
   "name": "python3"
  },
  "language_info": {
   "codemirror_mode": {
    "name": "ipython",
    "version": 3
   },
   "file_extension": ".py",
   "mimetype": "text/x-python",
   "name": "python",
   "nbconvert_exporter": "python",
   "pygments_lexer": "ipython3",
   "version": "3.11.2"
  },
  "vscode": {
   "interpreter": {
    "hash": "aee8b7b246df8f9039afb4144a1f6fd8d2ca17a180786b69acc140d282b71a49"
   }
  }
 },
 "nbformat": 4,
 "nbformat_minor": 2
}
